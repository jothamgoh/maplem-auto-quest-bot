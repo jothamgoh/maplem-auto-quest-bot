{
 "cells": [
  {
   "cell_type": "code",
   "execution_count": null,
   "metadata": {
    "collapsed": true
   },
   "outputs": [],
   "source": [
    "import pyautogui\n",
    "import time"
   ]
  },
  {
   "cell_type": "code",
   "execution_count": null,
   "metadata": {
    "collapsed": true
   },
   "outputs": [],
   "source": [
    "# Pauses for 0.3 seconds after a button is click\n",
    "pyautogui.PAUSE = 0.3"
   ]
  },
  {
   "cell_type": "markdown",
   "metadata": {},
   "source": [
    "# CODE FOR BUTTONS (You have to edit this section)"
   ]
  },
  {
   "cell_type": "code",
   "execution_count": null,
   "metadata": {},
   "outputs": [],
   "source": [
    "while True:\n",
    "    # ORANGE BUTTONS BELOW\n",
    "    # Add new button by changing the name of the file\n",
    "    if pyautogui.locateOnScreen('accept_button.png'):\n",
    "        pyautogui.click(pyautogui.locateCenterOnScreen('accept_button.png'))\n",
    "\n",
    "    elif pyautogui.locateOnScreen('confirm_button.png'):\n",
    "        pyautogui.click(pyautogui.locateCenterOnScreen('confirm_button.png'))\n",
    "\n",
    "    elif pyautogui.locateOnScreen('complete_button.png'):\n",
    "        pyautogui.click(pyautogui.locateCenterOnScreen('complete_button.png'))\n",
    "\n",
    "    elif pyautogui.locateOnScreen('claim_reward.png'):\n",
    "        pyautogui.click(pyautogui.locateCenterOnScreen('claim_reward.png'))\n",
    "        \n",
    "###################################################################################################\n",
    "    # \"SKIP\" AND \"START-QUEST\" buttons are below\n",
    "    # click \"Start Quest\" button\n",
    "    elif pyautogui.pixelMatchesColor(579, 892, (210, 195, 140)):\n",
    "        pyautogui.click(284, 402)\n",
    "        time.sleep(1)\n",
    "\n",
    "    # click \"Skip\" Button\n",
    "    elif pyautogui.pixelMatchesColor(308, 128, (246, 240, 239)):\n",
    "        pyautogui.click(308, 128)\n",
    "        time.sleep(0.5)\n",
    "\n",
    "    else:\n",
    "        time.sleep(5)"
   ]
  },
  {
   "cell_type": "markdown",
   "metadata": {
    "collapsed": true
   },
   "source": [
    "# TESTING EACH BUTTON SECTION"
   ]
  },
  {
   "cell_type": "markdown",
   "metadata": {},
   "source": [
    "## Skip"
   ]
  },
  {
   "cell_type": "code",
   "execution_count": null,
   "metadata": {
    "collapsed": true
   },
   "outputs": [],
   "source": [
    "if pyautogui.pixelMatchesColor(308, 128, (246, 240, 239)):\n",
    "    pyautogui.click(308, 128)        "
   ]
  },
  {
   "cell_type": "markdown",
   "metadata": {},
   "source": [
    "## Start Quest Button"
   ]
  },
  {
   "cell_type": "code",
   "execution_count": null,
   "metadata": {
    "collapsed": true
   },
   "outputs": [],
   "source": [
    "if pyautogui.pixelMatchesColor(579, 892, (210, 195, 140)):\n",
    "    pyautogui.click(284, 402)"
   ]
  },
  {
   "cell_type": "markdown",
   "metadata": {},
   "source": [
    "# Complete Button"
   ]
  },
  {
   "cell_type": "code",
   "execution_count": null,
   "metadata": {},
   "outputs": [],
   "source": [
    "complete_button = pyautogui.locateOnScreen('complete_button.png')\n",
    "pyautogui.click(pyautogui.center(complete_button))"
   ]
  },
  {
   "cell_type": "markdown",
   "metadata": {},
   "source": [
    "## Accept Button"
   ]
  },
  {
   "cell_type": "code",
   "execution_count": null,
   "metadata": {
    "collapsed": true
   },
   "outputs": [],
   "source": [
    "accept_button = pyautogui.locateOnScreen('accept_button.png')\n",
    "pyautogui.click(pyautogui.center(accept_button))"
   ]
  },
  {
   "cell_type": "markdown",
   "metadata": {},
   "source": [
    "## Claim Reward Button "
   ]
  },
  {
   "cell_type": "code",
   "execution_count": null,
   "metadata": {
    "collapsed": true
   },
   "outputs": [],
   "source": [
    "claim_reward = pyautogui.locateOnScreen('claim_reward.png')\n",
    "pyautogui.click(pyautogui.center(claim_reward))"
   ]
  },
  {
   "cell_type": "markdown",
   "metadata": {},
   "source": [
    "## Confirm Button"
   ]
  },
  {
   "cell_type": "code",
   "execution_count": null,
   "metadata": {
    "collapsed": true
   },
   "outputs": [],
   "source": [
    "confirm_button = pyautogui.locateOnScreen('confirm_button.png')\n",
    "pyautogui.click(pyautogui.center(confirm_button))"
   ]
  },
  {
   "cell_type": "markdown",
   "metadata": {
    "collapsed": true
   },
   "source": [
    "# TAKING SCREENSHOTS (For \"Skip\" and \"Start Quest\" buttons)"
   ]
  },
  {
   "cell_type": "code",
   "execution_count": null,
   "metadata": {},
   "outputs": [],
   "source": [
    "# Takes screenshot\n",
    "image = pyautogui.screenshot()"
   ]
  },
  {
   "cell_type": "code",
   "execution_count": null,
   "metadata": {},
   "outputs": [],
   "source": [
    "# Displays the screenshot, check if it is correct\n",
    "image"
   ]
  },
  {
   "cell_type": "code",
   "execution_count": null,
   "metadata": {},
   "outputs": [],
   "source": [
    "# Gets the X-Y Coordinates of the screenshot\n",
    "pyautogui.position()"
   ]
  },
  {
   "cell_type": "code",
   "execution_count": null,
   "metadata": {},
   "outputs": [],
   "source": [
    "# Gets the pixel color at the point where your mouse is pointing\n",
    "image.getpixel(pyautogui.position())"
   ]
  },
  {
   "cell_type": "code",
   "execution_count": null,
   "metadata": {
    "collapsed": true
   },
   "outputs": [],
   "source": []
  }
 ],
 "metadata": {
  "kernelspec": {
   "display_name": "Python 3",
   "language": "python",
   "name": "python3"
  },
  "language_info": {
   "codemirror_mode": {
    "name": "ipython",
    "version": 3
   },
   "file_extension": ".py",
   "mimetype": "text/x-python",
   "name": "python",
   "nbconvert_exporter": "python",
   "pygments_lexer": "ipython3",
   "version": "3.6.4"
  }
 },
 "nbformat": 4,
 "nbformat_minor": 2
}
